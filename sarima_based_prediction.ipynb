{
 "cells": [
  {
   "cell_type": "code",
   "execution_count": 11,
   "metadata": {},
   "outputs": [],
   "source": [
    "import pandas as pd\n",
    "import numpy as np\n",
    "import matplotlib.pyplot as plt\n",
    "\n",
    "from statsmodels.graphics.tsaplots import plot_acf, plot_pacf\n",
    "from statsmodels.tsa.statespace.sarimax import SARIMAX"
   ]
  },
  {
   "cell_type": "code",
   "execution_count": 12,
   "metadata": {},
   "outputs": [],
   "source": [
    "RANDOM_SEED = 42\n",
    "np.random.seed(RANDOM_SEED)"
   ]
  },
  {
   "cell_type": "markdown",
   "metadata": {},
   "source": [
    "### Read the synchroized CGM data"
   ]
  },
  {
   "cell_type": "code",
   "execution_count": 13,
   "metadata": {},
   "outputs": [],
   "source": [
    "data = pd.read_csv('data/cgm_to_meal_start.csv', parse_dates=['time_insulin', 'time_cgm'])\n",
    "data = data.dropna()\n",
    "data = data.reset_index(drop=True)"
   ]
  },
  {
   "cell_type": "markdown",
   "metadata": {},
   "source": [
    "### Plot the Auto-correlation function (ACF) for Moving Average (MA) parameters"
   ]
  },
  {
   "cell_type": "code",
   "execution_count": 14,
   "metadata": {},
   "outputs": [
    {
     "data": {
      "image/png": "[encoded data removed]",
      "text/plain": [
       "<Figure size 432x288 with 1 Axes>"
      ]
     },
     "metadata": {
      "needs_background": "light"
     },
     "output_type": "display_data"
    }
   ],
   "source": [
    "_ = plot_acf(data['cgm'].to_numpy(), lags=30)"
   ]
  },
  {
   "cell_type": "markdown",
   "metadata": {},
   "source": [
    "### Plot the PACF for Auto-regression (AR) parameters"
   ]
  },
  {
   "cell_type": "code",
   "execution_count": 15,
   "metadata": {},
   "outputs": [
    {
     "data": {
      "image/png": "[encoded data removed]",
      "text/plain": [
       "<Figure size 432x288 with 1 Axes>"
      ]
     },
     "metadata": {
      "needs_background": "light"
     },
     "output_type": "display_data"
    }
   ],
   "source": [
    "_ = plot_pacf(data['cgm'].to_numpy(), lags=30)"
   ]
  },
  {
   "cell_type": "markdown",
   "metadata": {},
   "source": [
    "### Fit a SARIMA model on subset of data"
   ]
  },
  {
   "cell_type": "code",
   "execution_count": 6,
   "metadata": {},
   "outputs": [],
   "source": [
    "demo_data = data['cgm']\n",
    "\n",
    "DEMO_TRAIN_DATA_POINTS = 10000\n",
    "FORECAST_POINTS = 100\n",
    "\n",
    "demo_train_start_idx = np.random.randint(0, len(demo_data) - DEMO_TRAIN_DATA_POINTS)\n",
    "demo_train_end_idx = demo_train_start_idx + DEMO_TRAIN_DATA_POINTS\n",
    "\n",
    "demo_train_data = demo_data[demo_train_start_idx : demo_train_end_idx]\n",
    "demo_test_data = demo_data[demo_train_end_idx : demo_train_end_idx + FORECAST_POINTS]"
   ]
  },
  {
   "cell_type": "markdown",
   "metadata": {},
   "source": [
    "#### SARIMA model with seasonality parameters"
   ]
  },
  {
   "cell_type": "code",
   "execution_count": 7,
   "metadata": {},
   "outputs": [],
   "source": [
    "order = (5, 0, 20)\n",
    "seasonal_order = (1, 0, 1, 100)\n",
    "sarima_model = SARIMAX(demo_train_data, order=order, seasonal_order=seasonal_order)"
   ]
  },
  {
   "cell_type": "markdown",
   "metadata": {},
   "source": [
    "#### Fit the model"
   ]
  },
  {
   "cell_type": "code",
   "execution_count": 8,
   "metadata": {
    "scrolled": true
   },
   "outputs": [
    {
     "name": "stderr",
     "output_type": "stream",
     "text": [
      "/opt/anaconda3/envs/MC-final-project/lib/python3.7/site-packages/statsmodels/tsa/statespace/sarimax.py:965: UserWarning: Non-stationary starting autoregressive parameters found. Using zeros as starting parameters.\n",
      "  warn('Non-stationary starting autoregressive parameters'\n",
      "/opt/anaconda3/envs/MC-final-project/lib/python3.7/site-packages/statsmodels/base/model.py:568: ConvergenceWarning: Maximum Likelihood optimization failed to converge. Check mle_retvals\n",
      "  ConvergenceWarning)\n"
     ]
    },
    {
     "name": "stdout",
     "output_type": "stream",
     "text": [
      "                                       SARIMAX Results                                        \n",
      "==============================================================================================\n",
      "Dep. Variable:                                    cgm   No. Observations:                10000\n",
      "Model:             SARIMAX(5, 0, 20)x(1, 0, [1], 100)   Log Likelihood              -39189.001\n",
      "Date:                                Fri, 04 Dec 2020   AIC                          78434.001\n",
      "Time:                                        12:18:28   BIC                          78635.891\n",
      "Sample:                                             0   HQIC                         78502.340\n",
      "                                              - 10000                                         \n",
      "Covariance Type:                                  opg                                         \n",
      "==============================================================================\n",
      "                 coef    std err          z      P>|z|      [0.025      0.975]\n",
      "------------------------------------------------------------------------------\n",
      "ar.L1         -0.6877      0.094     -7.289      0.000      -0.873      -0.503\n",
      "ar.L2          1.4558      0.050     29.241      0.000       1.358       1.553\n",
      "ar.L3          1.5013      0.152      9.848      0.000       1.203       1.800\n",
      "ar.L4         -0.4651      0.051     -9.184      0.000      -0.564      -0.366\n",
      "ar.L5         -0.8045      0.071    -11.370      0.000      -0.943      -0.666\n",
      "ma.L1          1.8755      0.095     19.812      0.000       1.690       2.061\n",
      "ma.L2          0.6355      0.119      5.359      0.000       0.403       0.868\n",
      "ma.L3         -1.0455      0.065    -16.044      0.000      -1.173      -0.918\n",
      "ma.L4         -0.9668      0.077    -12.588      0.000      -1.117      -0.816\n",
      "ma.L5         -0.2704      0.028     -9.502      0.000      -0.326      -0.215\n",
      "ma.L6         -0.1632      0.026     -6.183      0.000      -0.215      -0.111\n",
      "ma.L7         -0.1109      0.024     -4.540      0.000      -0.159      -0.063\n",
      "ma.L8         -0.0905      0.027     -3.320      0.001      -0.144      -0.037\n",
      "ma.L9         -0.0535      0.029     -1.854      0.064      -0.110       0.003\n",
      "ma.L10        -0.0440      0.028     -1.588      0.112      -0.098       0.010\n",
      "ma.L11        -0.0761      0.024     -3.134      0.002      -0.124      -0.029\n",
      "ma.L12        -0.0796      0.026     -3.009      0.003      -0.131      -0.028\n",
      "ma.L13        -0.0575      0.025     -2.273      0.023      -0.107      -0.008\n",
      "ma.L14        -0.0511      0.030     -1.680      0.093      -0.111       0.009\n",
      "ma.L15        -0.0540      0.030     -1.812      0.070      -0.112       0.004\n",
      "ma.L16        -0.0531      0.029     -1.852      0.064      -0.109       0.003\n",
      "ma.L17        -0.0709      0.031     -2.315      0.021      -0.131      -0.011\n",
      "ma.L18        -0.0838      0.026     -3.231      0.001      -0.135      -0.033\n",
      "ma.L19        -0.0605      0.025     -2.446      0.014      -0.109      -0.012\n",
      "ma.L20        -0.0176      0.012     -1.427      0.153      -0.042       0.007\n",
      "ar.S.L100      0.9590      0.036     26.890      0.000       0.889       1.029\n",
      "ma.S.L100     -0.9479      0.039    -24.239      0.000      -1.024      -0.871\n",
      "sigma2       144.4146      0.530    272.617      0.000     143.376     145.453\n",
      "===================================================================================\n",
      "Ljung-Box (L1) (Q):                   0.30   Jarque-Bera (JB):           1631158.53\n",
      "Prob(Q):                              0.58   Prob(JB):                         0.00\n",
      "Heteroskedasticity (H):               1.36   Skew:                            -0.41\n",
      "Prob(H) (two-sided):                  0.00   Kurtosis:                        65.56\n",
      "===================================================================================\n",
      "\n",
      "Warnings:\n",
      "[1] Covariance matrix calculated using the outer product of gradients (complex-step).\n"
     ]
    }
   ],
   "source": [
    "fitted_model = sarima_model.fit()\n",
    "print(fitted_model.summary())"
   ]
  },
  {
   "cell_type": "code",
   "execution_count": 9,
   "metadata": {},
   "outputs": [],
   "source": [
    "predictor_model = SARIMAX(demo_data[:demo_train_end_idx + FORECAST_POINTS], order=order)\n",
    "predictor_model = predictor_model.filter(fitted_model.params)\n",
    "predicted_cgm_values = predictor_model.predict()[demo_train_end_idx : demo_train_end_idx + FORECAST_POINTS]"
   ]
  },
  {
   "cell_type": "code",
   "execution_count": 10,
   "metadata": {},
   "outputs": [
    {
     "data": {
      "image/png": "[encoded data removed]",
      "text/plain": [
       "<Figure size 432x288 with 1 Axes>"
      ]
     },
     "metadata": {
      "needs_background": "light"
     },
     "output_type": "display_data"
    },
    {
     "name": "stdout",
     "output_type": "stream",
     "text": [
      "Mean absolute percent error:  0.023\n"
     ]
    }
   ],
   "source": [
    "plt.plot(predicted_cgm_values, label='predicted')\n",
    "plt.plot(demo_test_data, label='true')\n",
    "plt.ylabel('CGM values')\n",
    "plt.xlabel('Time step')\n",
    "plt.legend()\n",
    "plt.show()\n",
    "\n",
    "residuals = demo_test_data - predicted_cgm_values\n",
    "print(\"Mean absolute percent error: \", round(np.mean(abs(residuals/demo_test_data)), 4))"
   ]
  },
  {
   "cell_type": "markdown",
   "metadata": {},
   "source": [
    "#### Final SARIMA model without sesonality\n",
    "\n",
    "#### We went with this because it gives equally good results and it takes much less time to run as compared to SARIMA with seasonality."
   ]
  },
  {
   "cell_type": "code",
   "execution_count": 17,
   "metadata": {},
   "outputs": [],
   "source": [
    "order = (5, 0, 20)\n",
    "sarima_model = SARIMAX(demo_train_data, order=order)"
   ]
  },
  {
   "cell_type": "markdown",
   "metadata": {},
   "source": [
    "#### Fit the model"
   ]
  },
  {
   "cell_type": "code",
   "execution_count": 18,
   "metadata": {},
   "outputs": [
    {
     "name": "stderr",
     "output_type": "stream",
     "text": [
      "/opt/anaconda3/envs/MC-final-project/lib/python3.7/site-packages/statsmodels/tsa/statespace/sarimax.py:965: UserWarning: Non-stationary starting autoregressive parameters found. Using zeros as starting parameters.\n",
      "  warn('Non-stationary starting autoregressive parameters'\n",
      "/opt/anaconda3/envs/MC-final-project/lib/python3.7/site-packages/statsmodels/base/model.py:568: ConvergenceWarning: Maximum Likelihood optimization failed to converge. Check mle_retvals\n",
      "  ConvergenceWarning)\n"
     ]
    },
    {
     "name": "stdout",
     "output_type": "stream",
     "text": [
      "                               SARIMAX Results                                \n",
      "==============================================================================\n",
      "Dep. Variable:                    cgm   No. Observations:                10000\n",
      "Model:              SARIMAX(5, 0, 20)   Log Likelihood              -39240.095\n",
      "Date:                Fri, 04 Dec 2020   AIC                          78532.190\n",
      "Time:                        15:10:43   BIC                          78719.659\n",
      "Sample:                             0   HQIC                         78595.647\n",
      "                              - 10000                                         \n",
      "Covariance Type:                  opg                                         \n",
      "==============================================================================\n",
      "                 coef    std err          z      P>|z|      [0.025      0.975]\n",
      "------------------------------------------------------------------------------\n",
      "ar.L1         -0.0482      0.612     -0.079      0.937      -1.247       1.151\n",
      "ar.L2          0.9041      0.597      1.515      0.130      -0.266       2.074\n",
      "ar.L3          0.6348      0.508      1.249      0.212      -0.362       1.631\n",
      "ar.L4          0.0473      0.460      0.103      0.918      -0.855       0.949\n",
      "ar.L5         -0.5411      0.393     -1.375      0.169      -1.312       0.230\n",
      "ma.L1          1.2561      0.612      2.054      0.040       0.057       2.455\n",
      "ma.L2          0.4683      0.450      1.040      0.298      -0.414       1.351\n",
      "ma.L3         -0.3017      0.203     -1.483      0.138      -0.700       0.097\n",
      "ma.L4         -0.5610      0.349     -1.606      0.108      -1.246       0.124\n",
      "ma.L5         -0.1398      0.069     -2.020      0.043      -0.275      -0.004\n",
      "ma.L6         -0.0961      0.042     -2.288      0.022      -0.178      -0.014\n",
      "ma.L7         -0.0728      0.034     -2.135      0.033      -0.140      -0.006\n",
      "ma.L8         -0.0640      0.029     -2.179      0.029      -0.122      -0.006\n",
      "ma.L9         -0.0428      0.030     -1.432      0.152      -0.101       0.016\n",
      "ma.L10        -0.0578      0.023     -2.558      0.011      -0.102      -0.014\n",
      "ma.L11        -0.0686      0.033     -2.050      0.040      -0.134      -0.003\n",
      "ma.L12        -0.0680      0.029     -2.338      0.019      -0.125      -0.011\n",
      "ma.L13        -0.0660      0.034     -1.920      0.055      -0.133       0.001\n",
      "ma.L14        -0.0528      0.028     -1.853      0.064      -0.109       0.003\n",
      "ma.L15        -0.0677      0.031     -2.153      0.031      -0.129      -0.006\n",
      "ma.L16        -0.0652      0.033     -1.964      0.050      -0.130      -0.000\n",
      "ma.L17        -0.0844      0.035     -2.438      0.015      -0.152      -0.017\n",
      "ma.L18        -0.0904      0.041     -2.206      0.027      -0.171      -0.010\n",
      "ma.L19        -0.0540      0.039     -1.385      0.166      -0.130       0.022\n",
      "ma.L20        -0.0168      0.020     -0.833      0.405      -0.056       0.023\n",
      "sigma2       147.8134      0.520    284.207      0.000     146.794     148.833\n",
      "===================================================================================\n",
      "Ljung-Box (L1) (Q):                   2.50   Jarque-Bera (JB):           1626131.81\n",
      "Prob(Q):                              0.11   Prob(JB):                         0.00\n",
      "Heteroskedasticity (H):               1.37   Skew:                            -0.44\n",
      "Prob(H) (two-sided):                  0.00   Kurtosis:                        65.47\n",
      "===================================================================================\n",
      "\n",
      "Warnings:\n",
      "[1] Covariance matrix calculated using the outer product of gradients (complex-step).\n"
     ]
    }
   ],
   "source": [
    "fitted_model = sarima_model.fit()\n",
    "print(fitted_model.summary())"
   ]
  },
  {
   "cell_type": "markdown",
   "metadata": {},
   "source": [
    "#### Evaluate the fitted model on test points"
   ]
  },
  {
   "cell_type": "code",
   "execution_count": 19,
   "metadata": {},
   "outputs": [],
   "source": [
    "predictor_model = SARIMAX(demo_data[:demo_train_end_idx + FORECAST_POINTS], order=order)\n",
    "predictor_model = predictor_model.filter(fitted_model.params)\n",
    "predicted_cgm_values = predictor_model.predict()[demo_train_end_idx : demo_train_end_idx + FORECAST_POINTS]"
   ]
  },
  {
   "cell_type": "markdown",
   "metadata": {},
   "source": [
    "#### Plot the predicted vs true CGM values"
   ]
  },
  {
   "cell_type": "code",
   "execution_count": 20,
   "metadata": {},
   "outputs": [
    {
     "data": {
      "image/png": "[encoded data removed]",
      "text/plain": [
       "<Figure size 432x288 with 1 Axes>"
      ]
     },
     "metadata": {
      "needs_background": "light"
     },
     "output_type": "display_data"
    },
    {
     "name": "stdout",
     "output_type": "stream",
     "text": [
      "Mean absolute percent error:  0.0221\n"
     ]
    }
   ],
   "source": [
    "plt.plot(predicted_cgm_values, label='predicted')\n",
    "plt.plot(demo_test_data, label='true')\n",
    "plt.ylabel('CGM values')\n",
    "plt.xlabel('Time step')\n",
    "plt.legend()\n",
    "plt.show()\n",
    "\n",
    "residuals = demo_test_data - predicted_cgm_values\n",
    "print(\"Mean absolute percent error: \", round(np.mean(abs(residuals/demo_test_data)), 4))"
   ]
  },
  {
   "cell_type": "markdown",
   "metadata": {},
   "source": [
    "### Meal prediction demo on subset of data"
   ]
  },
  {
   "cell_type": "markdown",
   "metadata": {},
   "source": [
    "#### Extract non-meal data from the training set"
   ]
  },
  {
   "cell_type": "code",
   "execution_count": 21,
   "metadata": {},
   "outputs": [],
   "source": [
    "cgm_data = data\n",
    "\n",
    "DEMO_DATA_POINTS = 20000\n",
    "TRAIN_PERCENT = 0.70\n",
    "\n",
    "demo_data_start_idx = np.random.randint(0, len(cgm_data) - DEMO_DATA_POINTS)\n",
    "demo_data = cgm_data[demo_data_start_idx : demo_data_start_idx + DEMO_DATA_POINTS]\n",
    "\n",
    "demo_train_data_end_idx = int(DEMO_DATA_POINTS * TRAIN_PERCENT)\n",
    "demo_train_data = demo_data[ : demo_train_data_end_idx]\n",
    "\n",
    "# non meal data\n",
    "demo_train_data = demo_train_data.loc[(demo_train_data['meal_start'] == 0) & (demo_train_data['meal'] == 0)]['cgm']\n",
    "demo_test_data = demo_data[demo_train_data_end_idx : ]\n",
    "demo_test_cgm_data = demo_test_data['cgm']"
   ]
  },
  {
   "cell_type": "markdown",
   "metadata": {},
   "source": [
    "#### Fit the model and make predictions"
   ]
  },
  {
   "cell_type": "code",
   "execution_count": 22,
   "metadata": {},
   "outputs": [
    {
     "name": "stderr",
     "output_type": "stream",
     "text": [
      "/opt/anaconda3/envs/MC-final-project/lib/python3.7/site-packages/statsmodels/tsa/base/tsa_model.py:579: ValueWarning: An unsupported index was provided and will be ignored when e.g. forecasting.\n",
      "  ' ignored when e.g. forecasting.', ValueWarning)\n",
      "/opt/anaconda3/envs/MC-final-project/lib/python3.7/site-packages/statsmodels/tsa/base/tsa_model.py:579: ValueWarning: An unsupported index was provided and will be ignored when e.g. forecasting.\n",
      "  ' ignored when e.g. forecasting.', ValueWarning)\n",
      "/opt/anaconda3/envs/MC-final-project/lib/python3.7/site-packages/statsmodels/tsa/statespace/sarimax.py:965: UserWarning: Non-stationary starting autoregressive parameters found. Using zeros as starting parameters.\n",
      "  warn('Non-stationary starting autoregressive parameters'\n",
      "/opt/anaconda3/envs/MC-final-project/lib/python3.7/site-packages/statsmodels/base/model.py:568: ConvergenceWarning: Maximum Likelihood optimization failed to converge. Check mle_retvals\n",
      "  ConvergenceWarning)\n"
     ]
    },
    {
     "name": "stdout",
     "output_type": "stream",
     "text": [
      "                               SARIMAX Results                                \n",
      "==============================================================================\n",
      "Dep. Variable:                    cgm   No. Observations:                12505\n",
      "Model:              SARIMAX(5, 0, 20)   Log Likelihood              -50636.270\n",
      "Date:                Fri, 04 Dec 2020   AIC                         101324.540\n",
      "Time:                        15:11:41   BIC                         101517.821\n",
      "Sample:                             0   HQIC                        101389.244\n",
      "                              - 12505                                         \n",
      "Covariance Type:                  opg                                         \n",
      "==============================================================================\n",
      "                 coef    std err          z      P>|z|      [0.025      0.975]\n",
      "------------------------------------------------------------------------------\n",
      "ar.L1         -0.8596      0.043    -20.020      0.000      -0.944      -0.775\n",
      "ar.L2          1.5919      0.028     56.199      0.000       1.536       1.647\n",
      "ar.L3          1.7191      0.073     23.472      0.000       1.576       1.863\n",
      "ar.L4         -0.5958      0.028    -21.103      0.000      -0.651      -0.540\n",
      "ar.L5         -0.8557      0.040    -21.405      0.000      -0.934      -0.777\n",
      "ma.L1          2.0007      0.044     45.971      0.000       1.915       2.086\n",
      "ma.L2          0.5712      0.060      9.468      0.000       0.453       0.689\n",
      "ma.L3         -1.3263      0.049    -26.971      0.000      -1.423      -1.230\n",
      "ma.L4         -1.0386      0.049    -21.336      0.000      -1.134      -0.943\n",
      "ma.L5         -0.2181      0.024     -9.161      0.000      -0.265      -0.171\n",
      "ma.L6         -0.1338      0.023     -5.921      0.000      -0.178      -0.090\n",
      "ma.L7         -0.1170      0.026     -4.547      0.000      -0.167      -0.067\n",
      "ma.L8         -0.0948      0.024     -4.026      0.000      -0.141      -0.049\n",
      "ma.L9         -0.0457      0.027     -1.705      0.088      -0.098       0.007\n",
      "ma.L10        -0.0353      0.028     -1.271      0.204      -0.090       0.019\n",
      "ma.L11        -0.0770      0.023     -3.331      0.001      -0.122      -0.032\n",
      "ma.L12        -0.0708      0.025     -2.778      0.005      -0.121      -0.021\n",
      "ma.L13        -0.0320      0.026     -1.231      0.218      -0.083       0.019\n",
      "ma.L14        -0.0209      0.024     -0.857      0.392      -0.069       0.027\n",
      "ma.L15        -0.0194      0.028     -0.695      0.487      -0.074       0.035\n",
      "ma.L16        -0.0413      0.029     -1.422      0.155      -0.098       0.016\n",
      "ma.L17        -0.0881      0.025     -3.499      0.000      -0.137      -0.039\n",
      "ma.L18        -0.0921      0.026     -3.591      0.000      -0.142      -0.042\n",
      "ma.L19        -0.0502      0.025     -2.044      0.041      -0.098      -0.002\n",
      "ma.L20        -0.0128      0.010     -1.250      0.211      -0.033       0.007\n",
      "sigma2       190.2606      0.710    267.835      0.000     188.868     191.653\n",
      "===================================================================================\n",
      "Ljung-Box (L1) (Q):                   0.10   Jarque-Bera (JB):           1511613.28\n",
      "Prob(Q):                              0.75   Prob(JB):                         0.00\n",
      "Heteroskedasticity (H):               0.79   Skew:                            -0.68\n",
      "Prob(H) (two-sided):                  0.00   Kurtosis:                        56.85\n",
      "===================================================================================\n",
      "\n",
      "Warnings:\n",
      "[1] Covariance matrix calculated using the outer product of gradients (complex-step).\n"
     ]
    }
   ],
   "source": [
    "sarima_model = SARIMAX(demo_train_data, order=order)\n",
    "fitted_model = sarima_model.fit()\n",
    "print(fitted_model.summary())"
   ]
  },
  {
   "cell_type": "markdown",
   "metadata": {},
   "source": [
    "#### Get predictions on test data"
   ]
  },
  {
   "cell_type": "code",
   "execution_count": 23,
   "metadata": {},
   "outputs": [],
   "source": [
    "predictor_model = SARIMAX(demo_test_cgm_data, order=order)\n",
    "predictor_model = predictor_model.filter(fitted_model.params)\n",
    "predicted_cgm_values = predictor_model.predict()\n",
    "\n",
    "predicted_cgm_values = predicted_cgm_values.to_numpy()\n",
    "demo_test_cgm_data = demo_test_cgm_data.to_numpy()"
   ]
  },
  {
   "cell_type": "markdown",
   "metadata": {},
   "source": [
    "#### Meal vs non-meal values for $|CGM_{predicted} - CGM_{actual}|$"
   ]
  },
  {
   "cell_type": "code",
   "execution_count": 24,
   "metadata": {
    "scrolled": true
   },
   "outputs": [
    {
     "data": {
      "text/plain": [
       "Text(1000, 20, 'FPR-- non-meal-points \\n detected \\n as meal')"
      ]
     },
     "execution_count": 24,
     "metadata": {},
     "output_type": "execute_result"
    },
    {
     "data": {
      "image/png": "[encoded data removed]",
      "text/plain": [
       "<Figure size 2160x2160 with 1 Axes>"
      ]
     },
     "metadata": {
      "needs_background": "light"
     },
     "output_type": "display_data"
    }
   ],
   "source": [
    "meal_diff = []\n",
    "non_meal_diff = []\n",
    "\n",
    "meal_truth = (demo_test_data['meal_start'] == 1).to_numpy()\n",
    "meal_indices = np.where(meal_truth == True)[0]\n",
    "non_meal_indices = np.where(meal_truth == False)[0]\n",
    "\n",
    "for idx in meal_indices:\n",
    "    meal_diff.append(abs(predicted_cgm_values[idx] - demo_test_cgm_data[idx]))\n",
    "\n",
    "for idx in non_meal_indices:\n",
    "    non_meal_diff.append(abs(predicted_cgm_values[idx] - demo_test_cgm_data[idx]))\n",
    "\n",
    "meal_diff = np.array(meal_diff)\n",
    "non_meal_diff = np.array(non_meal_diff)\n",
    "non_meal_diff = np.random.choice(non_meal_diff, 1000, replace=False)\n",
    "\n",
    "\n",
    "plt.figure(figsize=(30, 30))\n",
    "plt.plot(meal_diff, 'o', color='black')\n",
    "plt.plot(non_meal_diff, 'x', color='blue')\n",
    "plt.hlines(3.0, 0, 1000, color='black')\n",
    "plt.xlabel('Timestamp')\n",
    "plt.ylabel('residual value')\n",
    "\n",
    "plt.text(-3, -7.5, \"FNR--Meal points \\n detected \\n as non-meal\", wrap=True, ha='center', color='black', fontsize=20)\n",
    "plt.text(1000, -7.5, \"TNR--non-meal points \\n detected \\n as non-meal\", wrap=True, ha='center', color='black', fontsize=20)\n",
    "plt.text(-3, 20, \"TPR--Meal points \\n detected \\n as meal\", wrap=True, ha='center', color='black', fontsize=20)\n",
    "plt.text(1000, 20, \"FPR-- non-meal-points \\n detected \\n as meal\", wrap=True, ha='center', color='black', fontsize=20)"
   ]
  },
  {
   "cell_type": "markdown",
   "metadata": {},
   "source": [
    "### Metric evaluation for the subset\n",
    "#### Threshold = $|CGM_{predicted} - CGM_{actual}|$"
   ]
  },
  {
   "cell_type": "code",
   "execution_count": 25,
   "metadata": {},
   "outputs": [
    {
     "name": "stdout",
     "output_type": "stream",
     "text": [
      " TPR (meal as meal) 0.30392156862745096 \n",
      " FPR (non-meal as meal) 0.343  \n",
      " TNR (non-meal as non-meal) 0.657 \n",
      " FNR (meal as non-meal) 0.696078431372549\n",
      " Accuracy:  0.6243194192377496\n"
     ]
    }
   ],
   "source": [
    "threshold = 4.5\n",
    "\n",
    "non_meal_row = [non_meal_diff[non_meal_diff < threshold].__len__(), non_meal_diff[non_meal_diff >= threshold].__len__()]\n",
    "meal_row = [meal_diff[meal_diff < threshold].__len__(), meal_diff[meal_diff >= threshold].__len__()]\n",
    "\n",
    "true_positive = meal_diff[meal_diff >= threshold].__len__() / meal_diff.__len__()\n",
    "true_negative = non_meal_diff[non_meal_diff < threshold].__len__() / non_meal_diff.__len__()\n",
    "\n",
    "false_positive = non_meal_diff[non_meal_diff >= threshold].__len__() / non_meal_diff.__len__()\n",
    "false_negative = meal_diff[meal_diff < threshold].__len__() / meal_diff.__len__()\n",
    "\n",
    "print(\" TPR (meal as meal)\", true_positive, \"\\n FPR (non-meal as meal)\", false_positive, \" \\n TNR (non-meal as non-meal)\", true_negative, \"\\n FNR (meal as non-meal)\", false_negative)\n",
    "\n",
    "detected_correctly = non_meal_diff[non_meal_diff < threshold].__len__() + meal_diff[meal_diff >= threshold].__len__()\n",
    "total_points = meal_diff.__len__() + non_meal_diff.__len__()\n",
    "print(\" Accuracy: \", (detected_correctly) / (total_points) )"
   ]
  },
  {
   "cell_type": "markdown",
   "metadata": {},
   "source": [
    "## Evaluation on entire dataset by taking random K-folds over data"
   ]
  },
  {
   "cell_type": "code",
   "execution_count": 28,
   "metadata": {},
   "outputs": [
    {
     "name": "stderr",
     "output_type": "stream",
     "text": [
      "/opt/anaconda3/envs/MC-final-project/lib/python3.7/site-packages/statsmodels/base/model.py:568: ConvergenceWarning: Maximum Likelihood optimization failed to converge. Check mle_retvals\n",
      "  ConvergenceWarning)\n"
     ]
    },
    {
     "name": "stdout",
     "output_type": "stream",
     "text": [
      "##########\n",
      " TPR (meal as meal) 0.3930635838150289 \n",
      " FPR (non-meal as meal) 0.34456090363284825  \n",
      " TNR (non-meal as non-meal) 0.6554390963671517 \n",
      " FNR (meal as non-meal) 0.6069364161849711\n",
      " Accuracy:  0.6509\n",
      "##########\n"
     ]
    },
    {
     "name": "stderr",
     "output_type": "stream",
     "text": [
      "/opt/anaconda3/envs/MC-final-project/lib/python3.7/site-packages/statsmodels/base/model.py:568: ConvergenceWarning: Maximum Likelihood optimization failed to converge. Check mle_retvals\n",
      "  ConvergenceWarning)\n"
     ]
    },
    {
     "name": "stdout",
     "output_type": "stream",
     "text": [
      "##########\n",
      " TPR (meal as meal) 0.3393939393939394 \n",
      " FPR (non-meal as meal) 0.3353329944077275  \n",
      " TNR (non-meal as non-meal) 0.6646670055922725 \n",
      " FNR (meal as non-meal) 0.6606060606060606\n",
      " Accuracy:  0.6593\n",
      "##########\n"
     ]
    },
    {
     "name": "stderr",
     "output_type": "stream",
     "text": [
      "/opt/anaconda3/envs/MC-final-project/lib/python3.7/site-packages/statsmodels/base/model.py:568: ConvergenceWarning: Maximum Likelihood optimization failed to converge. Check mle_retvals\n",
      "  ConvergenceWarning)\n"
     ]
    },
    {
     "name": "stdout",
     "output_type": "stream",
     "text": [
      "##########\n",
      " TPR (meal as meal) 0.30434782608695654 \n",
      " FPR (non-meal as meal) 0.35228198859005705  \n",
      " TNR (non-meal as non-meal) 0.6477180114099429 \n",
      " FNR (meal as non-meal) 0.6956521739130435\n",
      " Accuracy:  0.6414\n",
      "##########\n"
     ]
    },
    {
     "name": "stderr",
     "output_type": "stream",
     "text": [
      "/opt/anaconda3/envs/MC-final-project/lib/python3.7/site-packages/statsmodels/tsa/statespace/sarimax.py:965: UserWarning: Non-stationary starting autoregressive parameters found. Using zeros as starting parameters.\n",
      "  warn('Non-stationary starting autoregressive parameters'\n",
      "/opt/anaconda3/envs/MC-final-project/lib/python3.7/site-packages/statsmodels/base/model.py:568: ConvergenceWarning: Maximum Likelihood optimization failed to converge. Check mle_retvals\n",
      "  ConvergenceWarning)\n"
     ]
    },
    {
     "name": "stdout",
     "output_type": "stream",
     "text": [
      "##########\n",
      " TPR (meal as meal) 0.6878612716763006 \n",
      " FPR (non-meal as meal) 0.6966520810013229  \n",
      " TNR (non-meal as non-meal) 0.30334791899867714 \n",
      " FNR (meal as non-meal) 0.31213872832369943\n",
      " Accuracy:  0.31\n",
      "##########\n"
     ]
    },
    {
     "name": "stderr",
     "output_type": "stream",
     "text": [
      "/opt/anaconda3/envs/MC-final-project/lib/python3.7/site-packages/statsmodels/base/model.py:568: ConvergenceWarning: Maximum Likelihood optimization failed to converge. Check mle_retvals\n",
      "  ConvergenceWarning)\n"
     ]
    },
    {
     "name": "stdout",
     "output_type": "stream",
     "text": [
      "##########\n",
      " TPR (meal as meal) 0.31137724550898205 \n",
      " FPR (non-meal as meal) 0.33357062951286487  \n",
      " TNR (non-meal as non-meal) 0.6664293704871351 \n",
      " FNR (meal as non-meal) 0.688622754491018\n",
      " Accuracy:  0.6605\n",
      "##########\n"
     ]
    },
    {
     "name": "stderr",
     "output_type": "stream",
     "text": [
      "/opt/anaconda3/envs/MC-final-project/lib/python3.7/site-packages/statsmodels/base/model.py:568: ConvergenceWarning: Maximum Likelihood optimization failed to converge. Check mle_retvals\n",
      "  ConvergenceWarning)\n"
     ]
    },
    {
     "name": "stdout",
     "output_type": "stream",
     "text": [
      "##########\n",
      " TPR (meal as meal) 0.38922155688622756 \n",
      " FPR (non-meal as meal) 0.34007932472287195  \n",
      " TNR (non-meal as non-meal) 0.659920675277128 \n",
      " FNR (meal as non-meal) 0.6107784431137725\n",
      " Accuracy:  0.6554\n",
      "##########\n"
     ]
    },
    {
     "name": "stderr",
     "output_type": "stream",
     "text": [
      "/opt/anaconda3/envs/MC-final-project/lib/python3.7/site-packages/statsmodels/base/model.py:568: ConvergenceWarning: Maximum Likelihood optimization failed to converge. Check mle_retvals\n",
      "  ConvergenceWarning)\n"
     ]
    },
    {
     "name": "stdout",
     "output_type": "stream",
     "text": [
      "##########\n",
      " TPR (meal as meal) 0.32335329341317365 \n",
      " FPR (non-meal as meal) 0.3498423675378826  \n",
      " TNR (non-meal as non-meal) 0.6501576324621173 \n",
      " FNR (meal as non-meal) 0.6766467065868264\n",
      " Accuracy:  0.6447\n",
      "##########\n"
     ]
    },
    {
     "name": "stderr",
     "output_type": "stream",
     "text": [
      "/opt/anaconda3/envs/MC-final-project/lib/python3.7/site-packages/statsmodels/base/model.py:568: ConvergenceWarning: Maximum Likelihood optimization failed to converge. Check mle_retvals\n",
      "  ConvergenceWarning)\n"
     ]
    },
    {
     "name": "stdout",
     "output_type": "stream",
     "text": [
      "##########\n",
      " TPR (meal as meal) 0.3333333333333333 \n",
      " FPR (non-meal as meal) 0.3496695475343162  \n",
      " TNR (non-meal as non-meal) 0.6503304524656838 \n",
      " FNR (meal as non-meal) 0.6666666666666666\n",
      " Accuracy:  0.6451\n",
      "##########\n"
     ]
    },
    {
     "name": "stderr",
     "output_type": "stream",
     "text": [
      "/opt/anaconda3/envs/MC-final-project/lib/python3.7/site-packages/statsmodels/tsa/statespace/sarimax.py:965: UserWarning: Non-stationary starting autoregressive parameters found. Using zeros as starting parameters.\n",
      "  warn('Non-stationary starting autoregressive parameters'\n",
      "/opt/anaconda3/envs/MC-final-project/lib/python3.7/site-packages/statsmodels/base/model.py:568: ConvergenceWarning: Maximum Likelihood optimization failed to converge. Check mle_retvals\n",
      "  ConvergenceWarning)\n"
     ]
    },
    {
     "name": "stdout",
     "output_type": "stream",
     "text": [
      "##########\n",
      " TPR (meal as meal) 0.6206896551724138 \n",
      " FPR (non-meal as meal) 0.6043150824343578  \n",
      " TNR (non-meal as non-meal) 0.39568491756564217 \n",
      " FNR (meal as non-meal) 0.3793103448275862\n",
      " Accuracy:  0.3996\n",
      "##########\n"
     ]
    },
    {
     "name": "stderr",
     "output_type": "stream",
     "text": [
      "/opt/anaconda3/envs/MC-final-project/lib/python3.7/site-packages/statsmodels/tsa/statespace/sarimax.py:965: UserWarning: Non-stationary starting autoregressive parameters found. Using zeros as starting parameters.\n",
      "  warn('Non-stationary starting autoregressive parameters'\n",
      "/opt/anaconda3/envs/MC-final-project/lib/python3.7/site-packages/statsmodels/base/model.py:568: ConvergenceWarning: Maximum Likelihood optimization failed to converge. Check mle_retvals\n",
      "  ConvergenceWarning)\n"
     ]
    },
    {
     "name": "stdout",
     "output_type": "stream",
     "text": [
      "##########\n",
      " TPR (meal as meal) 0.6631016042780749 \n",
      " FPR (non-meal as meal) 0.690410679710588  \n",
      " TNR (non-meal as non-meal) 0.309589320289412 \n",
      " FNR (meal as non-meal) 0.33689839572192515\n",
      " Accuracy:  0.3162\n",
      "##########\n"
     ]
    },
    {
     "name": "stderr",
     "output_type": "stream",
     "text": [
      "/opt/anaconda3/envs/MC-final-project/lib/python3.7/site-packages/statsmodels/base/model.py:568: ConvergenceWarning: Maximum Likelihood optimization failed to converge. Check mle_retvals\n",
      "  ConvergenceWarning)\n"
     ]
    },
    {
     "name": "stdout",
     "output_type": "stream",
     "text": [
      "##########\n",
      " TPR (meal as meal) 0.3567251461988304 \n",
      " FPR (non-meal as meal) 0.341031641062163  \n",
      " TNR (non-meal as non-meal) 0.658968358937837 \n",
      " FNR (meal as non-meal) 0.6432748538011696\n",
      " Accuracy:  0.6538\n",
      "##########\n"
     ]
    },
    {
     "name": "stderr",
     "output_type": "stream",
     "text": [
      "/opt/anaconda3/envs/MC-final-project/lib/python3.7/site-packages/statsmodels/tsa/statespace/sarimax.py:965: UserWarning: Non-stationary starting autoregressive parameters found. Using zeros as starting parameters.\n",
      "  warn('Non-stationary starting autoregressive parameters'\n",
      "/opt/anaconda3/envs/MC-final-project/lib/python3.7/site-packages/statsmodels/base/model.py:568: ConvergenceWarning: Maximum Likelihood optimization failed to converge. Check mle_retvals\n",
      "  ConvergenceWarning)\n"
     ]
    },
    {
     "name": "stdout",
     "output_type": "stream",
     "text": [
      "##########\n",
      " TPR (meal as meal) 0.32967032967032966 \n",
      " FPR (non-meal as meal) 0.3360154817681809  \n",
      " TNR (non-meal as non-meal) 0.6639845182318191 \n",
      " FNR (meal as non-meal) 0.6703296703296703\n",
      " Accuracy:  0.6579\n",
      "##########\n"
     ]
    },
    {
     "name": "stderr",
     "output_type": "stream",
     "text": [
      "/opt/anaconda3/envs/MC-final-project/lib/python3.7/site-packages/statsmodels/base/model.py:568: ConvergenceWarning: Maximum Likelihood optimization failed to converge. Check mle_retvals\n",
      "  ConvergenceWarning)\n"
     ]
    },
    {
     "name": "stdout",
     "output_type": "stream",
     "text": [
      "##########\n",
      " TPR (meal as meal) 0.3231707317073171 \n",
      " FPR (non-meal as meal) 0.34017893452623016  \n",
      " TNR (non-meal as non-meal) 0.6598210654737698 \n",
      " FNR (meal as non-meal) 0.676829268292683\n",
      " Accuracy:  0.6543\n",
      "##########\n"
     ]
    },
    {
     "name": "stderr",
     "output_type": "stream",
     "text": [
      "/opt/anaconda3/envs/MC-final-project/lib/python3.7/site-packages/statsmodels/tsa/statespace/sarimax.py:965: UserWarning: Non-stationary starting autoregressive parameters found. Using zeros as starting parameters.\n",
      "  warn('Non-stationary starting autoregressive parameters'\n",
      "/opt/anaconda3/envs/MC-final-project/lib/python3.7/site-packages/statsmodels/tsa/statespace/sarimax.py:977: UserWarning: Non-invertible starting MA parameters found. Using zeros as starting parameters.\n",
      "  warn('Non-invertible starting MA parameters found.'\n",
      "/opt/anaconda3/envs/MC-final-project/lib/python3.7/site-packages/statsmodels/base/model.py:568: ConvergenceWarning: Maximum Likelihood optimization failed to converge. Check mle_retvals\n",
      "  ConvergenceWarning)\n"
     ]
    },
    {
     "name": "stdout",
     "output_type": "stream",
     "text": [
      "##########\n",
      " TPR (meal as meal) 0.22702702702702704 \n",
      " FPR (non-meal as meal) 0.304635761589404  \n",
      " TNR (non-meal as non-meal) 0.695364238410596 \n",
      " FNR (meal as non-meal) 0.772972972972973\n",
      " Accuracy:  0.6867\n",
      "##########\n"
     ]
    },
    {
     "name": "stderr",
     "output_type": "stream",
     "text": [
      "/opt/anaconda3/envs/MC-final-project/lib/python3.7/site-packages/statsmodels/tsa/statespace/sarimax.py:965: UserWarning: Non-stationary starting autoregressive parameters found. Using zeros as starting parameters.\n",
      "  warn('Non-stationary starting autoregressive parameters'\n",
      "/opt/anaconda3/envs/MC-final-project/lib/python3.7/site-packages/statsmodels/base/model.py:568: ConvergenceWarning: Maximum Likelihood optimization failed to converge. Check mle_retvals\n",
      "  ConvergenceWarning)\n"
     ]
    },
    {
     "name": "stdout",
     "output_type": "stream",
     "text": [
      "##########\n",
      " TPR (meal as meal) 0.2994652406417112 \n",
      " FPR (non-meal as meal) 0.3259961275858555  \n",
      " TNR (non-meal as non-meal) 0.6740038724141445 \n",
      " FNR (meal as non-meal) 0.7005347593582888\n",
      " Accuracy:  0.667\n",
      "##########\n"
     ]
    },
    {
     "name": "stderr",
     "output_type": "stream",
     "text": [
      "/opt/anaconda3/envs/MC-final-project/lib/python3.7/site-packages/statsmodels/base/model.py:568: ConvergenceWarning: Maximum Likelihood optimization failed to converge. Check mle_retvals\n",
      "  ConvergenceWarning)\n"
     ]
    },
    {
     "name": "stdout",
     "output_type": "stream",
     "text": [
      "##########\n",
      " TPR (meal as meal) 0.3393939393939394 \n",
      " FPR (non-meal as meal) 0.3527198779867819  \n",
      " TNR (non-meal as non-meal) 0.647280122013218 \n",
      " FNR (meal as non-meal) 0.6606060606060606\n",
      " Accuracy:  0.6422\n",
      "##########\n"
     ]
    },
    {
     "name": "stderr",
     "output_type": "stream",
     "text": [
      "/opt/anaconda3/envs/MC-final-project/lib/python3.7/site-packages/statsmodels/base/model.py:568: ConvergenceWarning: Maximum Likelihood optimization failed to converge. Check mle_retvals\n",
      "  ConvergenceWarning)\n"
     ]
    },
    {
     "name": "stdout",
     "output_type": "stream",
     "text": [
      "##########\n",
      " TPR (meal as meal) 0.34502923976608185 \n",
      " FPR (non-meal as meal) 0.3579204395157188  \n",
      " TNR (non-meal as non-meal) 0.6420795604842812 \n",
      " FNR (meal as non-meal) 0.6549707602339181\n",
      " Accuracy:  0.637\n",
      "##########\n"
     ]
    },
    {
     "name": "stderr",
     "output_type": "stream",
     "text": [
      "/opt/anaconda3/envs/MC-final-project/lib/python3.7/site-packages/statsmodels/base/model.py:568: ConvergenceWarning: Maximum Likelihood optimization failed to converge. Check mle_retvals\n",
      "  ConvergenceWarning)\n"
     ]
    },
    {
     "name": "stdout",
     "output_type": "stream",
     "text": [
      "##########\n",
      " TPR (meal as meal) 0.3393939393939394 \n",
      " FPR (non-meal as meal) 0.3538383324860193  \n",
      " TNR (non-meal as non-meal) 0.6461616675139806 \n",
      " FNR (meal as non-meal) 0.6606060606060606\n",
      " Accuracy:  0.6411\n",
      "##########\n"
     ]
    },
    {
     "name": "stderr",
     "output_type": "stream",
     "text": [
      "/opt/anaconda3/envs/MC-final-project/lib/python3.7/site-packages/statsmodels/base/model.py:568: ConvergenceWarning: Maximum Likelihood optimization failed to converge. Check mle_retvals\n",
      "  ConvergenceWarning)\n"
     ]
    },
    {
     "name": "stdout",
     "output_type": "stream",
     "text": [
      "##########\n",
      " TPR (meal as meal) 0.30120481927710846 \n",
      " FPR (non-meal as meal) 0.3268252999796624  \n",
      " TNR (non-meal as non-meal) 0.6731747000203376 \n",
      " FNR (meal as non-meal) 0.6987951807228916\n",
      " Accuracy:  0.667\n",
      "##########\n"
     ]
    },
    {
     "name": "stderr",
     "output_type": "stream",
     "text": [
      "/opt/anaconda3/envs/MC-final-project/lib/python3.7/site-packages/statsmodels/base/model.py:568: ConvergenceWarning: Maximum Likelihood optimization failed to converge. Check mle_retvals\n",
      "  ConvergenceWarning)\n"
     ]
    },
    {
     "name": "stdout",
     "output_type": "stream",
     "text": [
      "##########\n",
      " TPR (meal as meal) 0.3253012048192771 \n",
      " FPR (non-meal as meal) 0.35295912141549723  \n",
      " TNR (non-meal as non-meal) 0.6470408785845028 \n",
      " FNR (meal as non-meal) 0.6746987951807228\n",
      " Accuracy:  0.6417\n",
      "##########\n"
     ]
    },
    {
     "name": "stderr",
     "output_type": "stream",
     "text": [
      "/opt/anaconda3/envs/MC-final-project/lib/python3.7/site-packages/statsmodels/base/model.py:568: ConvergenceWarning: Maximum Likelihood optimization failed to converge. Check mle_retvals\n",
      "  ConvergenceWarning)\n"
     ]
    },
    {
     "name": "stdout",
     "output_type": "stream",
     "text": [
      "##########\n",
      " TPR (meal as meal) 0.30120481927710846 \n",
      " FPR (non-meal as meal) 0.3243847874720358  \n",
      " TNR (non-meal as non-meal) 0.6756152125279642 \n",
      " FNR (meal as non-meal) 0.6987951807228916\n",
      " Accuracy:  0.6694\n",
      "##########\n"
     ]
    },
    {
     "name": "stderr",
     "output_type": "stream",
     "text": [
      "/opt/anaconda3/envs/MC-final-project/lib/python3.7/site-packages/statsmodels/tsa/statespace/sarimax.py:965: UserWarning: Non-stationary starting autoregressive parameters found. Using zeros as starting parameters.\n",
      "  warn('Non-stationary starting autoregressive parameters'\n",
      "/opt/anaconda3/envs/MC-final-project/lib/python3.7/site-packages/statsmodels/base/model.py:568: ConvergenceWarning: Maximum Likelihood optimization failed to converge. Check mle_retvals\n",
      "  ConvergenceWarning)\n"
     ]
    },
    {
     "name": "stdout",
     "output_type": "stream",
     "text": [
      "##########\n",
      " TPR (meal as meal) 0.35260115606936415 \n",
      " FPR (non-meal as meal) 0.3592144092805536  \n",
      " TNR (non-meal as non-meal) 0.6407855907194464 \n",
      " FNR (meal as non-meal) 0.6473988439306358\n",
      " Accuracy:  0.6358\n",
      "##########\n"
     ]
    },
    {
     "name": "stderr",
     "output_type": "stream",
     "text": [
      "/opt/anaconda3/envs/MC-final-project/lib/python3.7/site-packages/statsmodels/base/model.py:568: ConvergenceWarning: Maximum Likelihood optimization failed to converge. Check mle_retvals\n",
      "  ConvergenceWarning)\n"
     ]
    },
    {
     "name": "stdout",
     "output_type": "stream",
     "text": [
      "##########\n",
      " TPR (meal as meal) 0.32727272727272727 \n",
      " FPR (non-meal as meal) 0.3498729028978139  \n",
      " TNR (non-meal as non-meal) 0.6501270971021861 \n",
      " FNR (meal as non-meal) 0.6727272727272727\n",
      " Accuracy:  0.6448\n",
      "##########\n"
     ]
    },
    {
     "name": "stderr",
     "output_type": "stream",
     "text": [
      "/opt/anaconda3/envs/MC-final-project/lib/python3.7/site-packages/statsmodels/base/model.py:568: ConvergenceWarning: Maximum Likelihood optimization failed to converge. Check mle_retvals\n",
      "  ConvergenceWarning)\n"
     ]
    },
    {
     "name": "stdout",
     "output_type": "stream",
     "text": [
      "##########\n",
      " TPR (meal as meal) 0.3277777777777778 \n",
      " FPR (non-meal as meal) 0.3533604887983707  \n",
      " TNR (non-meal as non-meal) 0.6466395112016293 \n",
      " FNR (meal as non-meal) 0.6722222222222223\n",
      " Accuracy:  0.6409\n",
      "##########\n"
     ]
    },
    {
     "name": "stderr",
     "output_type": "stream",
     "text": [
      "/opt/anaconda3/envs/MC-final-project/lib/python3.7/site-packages/statsmodels/tsa/statespace/sarimax.py:965: UserWarning: Non-stationary starting autoregressive parameters found. Using zeros as starting parameters.\n",
      "  warn('Non-stationary starting autoregressive parameters'\n",
      "/opt/anaconda3/envs/MC-final-project/lib/python3.7/site-packages/statsmodels/base/model.py:568: ConvergenceWarning: Maximum Likelihood optimization failed to converge. Check mle_retvals\n",
      "  ConvergenceWarning)\n"
     ]
    },
    {
     "name": "stdout",
     "output_type": "stream",
     "text": [
      "##########\n",
      " TPR (meal as meal) 0.3181818181818182 \n",
      " FPR (non-meal as meal) 0.33519951140065146  \n",
      " TNR (non-meal as non-meal) 0.6648004885993485 \n",
      " FNR (meal as non-meal) 0.6818181818181818\n",
      " Accuracy:  0.6587\n",
      "##########\n"
     ]
    }
   ],
   "source": [
    "K = 25\n",
    "data_per_fold = 10000\n",
    "train_percent = 0.70\n",
    "\n",
    "all_true_positive = []\n",
    "all_true_negative = []\n",
    "all_false_positive = []\n",
    "all_false_negative = []\n",
    "all_accuracies = []\n",
    "\n",
    "for fold_no in range(K):\n",
    "    # select a random start index for the fold\n",
    "    fold_start_idx = np.random.randint(0, len(data) - data_per_fold)\n",
    "    \n",
    "    fold_end_idx = fold_start_idx + data_per_fold\n",
    "    fold_data = data[fold_start_idx : fold_end_idx]\n",
    "    fold_train_end_idx = int(train_percent * fold_data.__len__())\n",
    "    \n",
    "    fold_train_data = fold_data[0 : fold_train_end_idx]\n",
    "    fold_test_data = fold_data[fold_train_end_idx : ]\n",
    "    \n",
    "    # apply SARIMA model on the train data after removing meal points from it\n",
    "    fold_train_data_no_meal = fold_train_data.loc[(fold_train_data['meal_start'] == 0) & (fold_train_data['meal'] == 0)]\n",
    "    fold_cgm_train_no_meal = fold_train_data_no_meal['cgm'].to_numpy()\n",
    "    \n",
    "    # train the model\n",
    "    model = SARIMAX(fold_cgm_train_no_meal, order=order).fit()\n",
    "    model_params = model.params\n",
    "    \n",
    "    fold_cgm_data = fold_data['cgm'].to_numpy()\n",
    "    # now make a new model with the fitted values from the trained model\n",
    "    predictor_model = SARIMAX(fold_cgm_data, order=order)\n",
    "    predictor_model = predictor_model.filter(model_params)\n",
    "    \n",
    "    predicted_cgm_values = predictor_model.predict()\n",
    "    \n",
    "    # compute meal and no-meal here\n",
    "    \n",
    "    meal_diff = []\n",
    "    non_meal_diff = []\n",
    "    meal_truth = (fold_data['meal_start'] == 1).to_numpy()\n",
    "    meal_indices = np.where(meal_truth == True)[0]\n",
    "    non_meal_indices = np.where(meal_truth == False)[0]\n",
    "\n",
    "    for idx in meal_indices:\n",
    "        meal_diff.append(abs(predicted_cgm_values[idx] - fold_cgm_data[idx]))\n",
    "\n",
    "    for idx in non_meal_indices:\n",
    "        non_meal_diff.append(abs(predicted_cgm_values[idx] - fold_cgm_data[idx]))\n",
    "    \n",
    "    meal_diff = np.array(meal_diff)\n",
    "    non_meal_diff = np.array(non_meal_diff)\n",
    "    \n",
    "    print(\"#\" * 10)\n",
    "    \n",
    "    threshold = 4.5\n",
    "    \n",
    "    true_positive = meal_diff[meal_diff >= threshold].__len__() / meal_diff.__len__()\n",
    "    true_negative = non_meal_diff[non_meal_diff < threshold].__len__() / non_meal_diff.__len__()\n",
    "    \n",
    "    false_positive = non_meal_diff[non_meal_diff >= threshold].__len__() / non_meal_diff.__len__()\n",
    "    false_negative = meal_diff[meal_diff < threshold].__len__() / meal_diff.__len__()\n",
    "    \n",
    "    print(\" TPR (meal as meal)\", true_positive, \"\\n FPR (non-meal as meal)\", false_positive, \" \\n TNR (non-meal as non-meal)\", true_negative, \"\\n FNR (meal as non-meal)\", false_negative)\n",
    "\n",
    "    detected_correctly = non_meal_diff[non_meal_diff < threshold].__len__() + meal_diff[meal_diff >= threshold].__len__()\n",
    "    total_points = meal_diff.__len__() + non_meal_diff.__len__()\n",
    "    accuracy = (detected_correctly) / (total_points)\n",
    "    print(\" Accuracy: \", accuracy )\n",
    "    \n",
    "    print(\"#\" * 10)\n",
    "    \n",
    "    all_true_positive.append(true_positive)\n",
    "    all_true_negative.append(true_negative)\n",
    "    all_false_positive.append(false_positive)\n",
    "    all_false_negative.append(false_negative)\n",
    "    all_accuracies.append(accuracy)"
   ]
  },
  {
   "cell_type": "code",
   "execution_count": 29,
   "metadata": {},
   "outputs": [
    {
     "name": "stdout",
     "output_type": "stream",
     "text": [
      "TNR (non meal -> non meal) 0.6648004885993485\n",
      "TNR (meal -> meal) 0.3181818181818182\n",
      "TNR (non meal -> meal) 0.33519951140065146\n",
      "TNR (meal -> non meal) 0.6648004885993485\n",
      "Accuracy 0.6587\n"
     ]
    }
   ],
   "source": [
    "print(\"TNR (non meal -> non meal)\",np.mean(true_negative))\n",
    "print(\"TNR (meal -> meal)\",np.mean(true_positive))\n",
    "print(\"TNR (non meal -> meal)\",np.mean(false_positive))\n",
    "print(\"TNR (meal -> non meal)\",np.mean(true_negative))\n",
    "print('Accuracy',np.mean(accuracy))"
   ]
  }
 ],
 "metadata": {
  "kernelspec": {
   "display_name": "Python 3",
   "language": "python",
   "name": "python3"
  },
  "language_info": {
   "codemirror_mode": {
    "name": "ipython",
    "version": 3
   },
   "file_extension": ".py",
   "mimetype": "text/x-python",
   "name": "python",
   "nbconvert_exporter": "python",
   "pygments_lexer": "ipython3",
   "version": "3.7.9"
  }
 },
 "nbformat": 4,
 "nbformat_minor": 1
}
