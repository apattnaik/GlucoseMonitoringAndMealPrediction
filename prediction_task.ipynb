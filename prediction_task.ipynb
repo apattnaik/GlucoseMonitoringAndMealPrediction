{
 "cells": [
  {
   "cell_type": "code",
   "execution_count": 30,
   "metadata": {},
   "outputs": [],
   "source": [
    "import pandas as pd\n",
    "import matplotlib.pyplot as plt\n",
    "import seaborn as sns\n",
    "import numpy as np\n",
    "import scipy"
   ]
  },
  {
   "cell_type": "code",
   "execution_count": 82,
   "metadata": {},
   "outputs": [],
   "source": [
    "data = pd.read_csv('data/cgm_to_meal.csv')\n",
    "data = data.dropna()\n",
    "cgm_diff = data['cgm'].diff()\n",
    "data['diff'] = cgm_diff\n",
    "data = data.dropna()\n",
    "data = data.reset_index(drop=True)"
   ]
  },
  {
   "cell_type": "code",
   "execution_count": 56,
   "metadata": {
    "scrolled": true
   },
   "outputs": [],
   "source": [
    "# non_meal_diff = data.loc[(data['meal'] == 0) & (data['diff'] < 20) & (data['diff'] > -20)]['diff']\n",
    "# meal_diff = data.loc[(data['meal'] == 1) & (data['diff'] < 20) & (data['diff'] > -20) ]['diff']\n",
    "# plt.hist([meal_diff, non_meal_diff], bins = 50, label=['meal', 'non-meal'])\n",
    "# plt.legend()"
   ]
  },
  {
   "cell_type": "code",
   "execution_count": 89,
   "metadata": {
    "scrolled": true
   },
   "outputs": [],
   "source": [
    "near_param = 5\n",
    "\n",
    "meal_indices = data.index[data['meal'] == 1]\n",
    "meal_data_X = []\n",
    "for idx in meal_indices:\n",
    "    near_idx_points = data.iloc[list(range(idx - 1, idx - near_param - 1, -1))]\n",
    "    meal_data_X.append(near_idx_points['diff'].to_list())\n",
    "\n",
    "non_meal_indices = data.index[data['meal'] == 0]\n",
    "non_meal_data_X = []\n",
    "for idx in non_meal_indices:\n",
    "    near_idx_points = data.iloc[list(range(idx - 1, idx - near_param - 1, -1))]\n",
    "    non_meal_data_X.append(near_idx_points['diff'].to_list())"
   ]
  },
  {
   "cell_type": "code",
   "execution_count": 96,
   "metadata": {},
   "outputs": [],
   "source": [
    "meal_data_Y = np.ones(len(meal_data_X))\n",
    "non_meal_data_Y = np.ones(len(non_meal_data_X))\n",
    "meal_data_X = np.array(meal_data_X)\n",
    "non_meal_data_X = np.array(non_meal_data_X)"
   ]
  },
  {
   "cell_type": "code",
   "execution_count": null,
   "metadata": {},
   "outputs": [],
   "source": []
  }
 ],
 "metadata": {
  "kernelspec": {
   "display_name": "Python 3",
   "language": "python",
   "name": "python3"
  },
  "language_info": {
   "codemirror_mode": {
    "name": "ipython",
    "version": 3
   },
   "file_extension": ".py",
   "mimetype": "text/x-python",
   "name": "python",
   "nbconvert_exporter": "python",
   "pygments_lexer": "ipython3",
   "version": "3.7.9"
  }
 },
 "nbformat": 4,
 "nbformat_minor": 1
}
