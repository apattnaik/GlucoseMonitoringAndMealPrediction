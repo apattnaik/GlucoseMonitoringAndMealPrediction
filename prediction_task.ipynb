{
 "cells": [
  {
   "cell_type": "code",
   "execution_count": 116,
   "metadata": {},
   "outputs": [],
   "source": [
    "import pandas as pd\n",
    "import matplotlib.pyplot as plt\n",
    "import numpy as np\n",
    "import scipy\n",
    "from datetime import datetime, timedelta"
   ]
  },
  {
   "cell_type": "code",
   "execution_count": 138,
   "metadata": {},
   "outputs": [],
   "source": [
    "data = pd.read_csv('data/cgm_to_meal_start.csv', parse_dates=['time_insulin', 'time_cgm'])\n",
    "data = data.dropna()\n",
    "data = data.reset_index(drop=True)\n",
    "# data['time_cgm'].to_list()[0].to_pydatetime()"
   ]
  },
  {
   "cell_type": "code",
   "execution_count": 146,
   "metadata": {},
   "outputs": [
    {
     "name": "stdout",
     "output_type": "stream",
     "text": [
      "Int64Index([   72,    91,   133,   166,   204,   371,   423,   559,   581,\n",
      "              634,\n",
      "            ...\n",
      "            38127, 38190, 38218, 38250, 38305, 38343, 38398, 38475, 38506,\n",
      "            38524],\n",
      "           dtype='int64', length=579)\n"
     ]
    }
   ],
   "source": [
    "meal_indices = data.index[data['meal_start'] == 1]\n",
    "for idx in meal_indices:\n",
    "    meal_time = data.loc[idx]['time_insulin']\n",
    "    time_diff = pd.Timedelta(timedelta())\n",
    "    prev_idx = idx - 1\n",
    "    while True:\n",
    "        prev_point_time = data.loc[prev_idx]['time_insulin']\n",
    "        time_diff = abs(meal_time - prev_point_time)\n",
    "        if time_diff > pd.Timedelta(timedelta(seconds=10)):\n",
    "            break\n",
    "        data.iat[prev_idx, 4] = 1\n",
    "        prev_idx -= 1\n",
    "print(meal_indices)"
   ]
  },
  {
   "cell_type": "code",
   "execution_count": null,
   "metadata": {},
   "outputs": [],
   "source": [
    "cgm_diff = data['cgm'].diff()\n",
    "data['diff'] = cgm_diff\n",
    "data = data.dropna()\n",
    "data = data.reset_index(drop=True)"
   ]
  },
  {
   "cell_type": "code",
   "execution_count": 56,
   "metadata": {
    "scrolled": true
   },
   "outputs": [],
   "source": [
    "# non_meal_diff = data.loc[(data['meal'] == 0) & (data['diff'] < 20) & (data['diff'] > -20)]['diff']\n",
    "# meal_diff = data.loc[(data['meal'] == 1) & (data['diff'] < 20) & (data['diff'] > -20) ]['diff']\n",
    "# plt.hist([meal_diff, non_meal_diff], bins = 50, label=['meal', 'non-meal'])\n",
    "# plt.legend()"
   ]
  },
  {
   "cell_type": "code",
   "execution_count": 89,
   "metadata": {
    "scrolled": true
   },
   "outputs": [],
   "source": [
    "near_param = 5\n",
    "\n",
    "meal_indices = data.index[data['meal'] == 1]\n",
    "meal_data_X = []\n",
    "for idx in meal_indices:\n",
    "    near_idx_points = data.iloc[list(range(idx - 1, idx - near_param - 1, -1))]\n",
    "    meal_data_X.append(near_idx_points['diff'].to_list())\n",
    "\n",
    "non_meal_indices = data.index[data['meal'] == 0]\n",
    "non_meal_data_X = []\n",
    "for idx in non_meal_indices:\n",
    "    near_idx_points = data.iloc[list(range(idx - 1, idx - near_param - 1, -1))]\n",
    "    non_meal_data_X.append(near_idx_points['diff'].to_list())"
   ]
  },
  {
   "cell_type": "code",
   "execution_count": 96,
   "metadata": {},
   "outputs": [],
   "source": [
    "meal_data_Y = np.ones(len(meal_data_X))\n",
    "non_meal_data_Y = np.zeros(len(non_meal_data_X))\n",
    "meal_data_X = np.array(meal_data_X)\n",
    "non_meal_data_X = np.array(non_meal_data_X)"
   ]
  },
  {
   "cell_type": "code",
   "execution_count": 117,
   "metadata": {},
   "outputs": [
    {
     "data": {
      "text/plain": [
       "datetime.timedelta(0)"
      ]
     },
     "execution_count": 117,
     "metadata": {},
     "output_type": "execute_result"
    }
   ],
   "source": [
    "timedelta()"
   ]
  },
  {
   "cell_type": "code",
   "execution_count": null,
   "metadata": {},
   "outputs": [],
   "source": []
  }
 ],
 "metadata": {
  "kernelspec": {
   "display_name": "Python 3",
   "language": "python",
   "name": "python3"
  },
  "language_info": {
   "codemirror_mode": {
    "name": "ipython",
    "version": 3
   },
   "file_extension": ".py",
   "mimetype": "text/x-python",
   "name": "python",
   "nbconvert_exporter": "python",
   "pygments_lexer": "ipython3",
   "version": "3.7.9"
  }
 },
 "nbformat": 4,
 "nbformat_minor": 1
}
