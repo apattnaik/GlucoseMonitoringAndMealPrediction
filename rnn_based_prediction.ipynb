{
 "cells": [
  {
   "cell_type": "code",
   "execution_count": 75,
   "metadata": {},
   "outputs": [],
   "source": [
    "import numpy as np\n",
    "import tensorflow as tf\n",
    "from tensorflow import keras\n",
    "import pandas as pd\n",
    "import matplotlib.pyplot as plt\n",
    "from scipy.stats import describe\n"
   ]
  },
  {
   "cell_type": "code",
   "execution_count": 74,
   "metadata": {},
   "outputs": [],
   "source": [
    "def create_dataset(X, y):\n",
    "    Xs, ys = [], []\n",
    "    for i in range(len(X) - 1):\n",
    "        Xs.append(X.iat[i])        \n",
    "        ys.append(y.iat[i + 1])\n",
    "    return np.array(Xs), np.array(ys)\n",
    "\n",
    "def reject_outliers(data, m=2):\n",
    "    t1 = abs(data - np.mean(data)) < m * np.std(data)\n",
    "    return data[(np.where(t1 == True))[0]]"
   ]
  },
  {
   "cell_type": "code",
   "execution_count": 45,
   "metadata": {},
   "outputs": [],
   "source": [
    "RANDOM_SEED = 42\n",
    "np.random.seed(RANDOM_SEED)\n",
    "tf.random.set_seed(RANDOM_SEED)"
   ]
  },
  {
   "cell_type": "code",
   "execution_count": 66,
   "metadata": {},
   "outputs": [],
   "source": [
    "#read data\n",
    "data = pd.read_csv('data/cgm_to_meal_start.csv', parse_dates=['time_insulin', 'time_cgm'])\n",
    "data = data.dropna()\n",
    "data = data.reset_index(drop=True)"
   ]
  },
  {
   "cell_type": "code",
   "execution_count": 145,
   "metadata": {},
   "outputs": [
    {
     "name": "stdout",
     "output_type": "stream",
     "text": [
      "##########\n",
      "TP  0.32673267326732675 FP  0.3236690403526619 TN  0.676330959647338 FN  0.6732673267326733\n",
      "accuracy:  0.6704450741790299\n",
      "##########\n",
      "##########\n",
      "TP  0.3643410852713178 FP  0.3275979557069847 TN  0.6724020442930153 FN  0.6356589147286822\n",
      "accuracy:  0.6657776296049341\n",
      "##########\n",
      "##########\n",
      "TP  0.3069306930693069 FP  0.2984062394031875 TN  0.7015937605968124 FN  0.693069306930693\n",
      "accuracy:  0.6949491581930322\n",
      "##########\n",
      "##########\n",
      "TP  0.44545454545454544 FP  0.4155204618780778 TN  0.5844795381219222 FN  0.5545454545454546\n",
      "accuracy:  0.5819303217202867\n",
      "##########\n",
      "##########\n",
      "TP  0.5588235294117647 FP  0.5501102255384094 TN  0.4498897744615906 FN  0.4411764705882353\n",
      "accuracy:  0.45174195699283215\n",
      "##########\n",
      "##########\n",
      "TP  0.30357142857142855 FP  0.2787497876677425 TN  0.7212502123322575 FN  0.6964285714285714\n",
      "accuracy:  0.7134522420403401\n",
      "##########\n",
      "##########\n",
      "TP  0.3925233644859813 FP  0.44161575016972165 TN  0.5583842498302783 FN  0.6074766355140186\n",
      "accuracy:  0.5554259043173863\n",
      "##########\n",
      "##########\n",
      "TP  0.44660194174757284 FP  0.42096336499321574 TN  0.5790366350067843 FN  0.5533980582524272\n",
      "accuracy:  0.5767627937989664\n",
      "##########\n",
      "##########\n",
      "TP  0.3829787234042553 FP  0.28331922099915324 TN  0.7166807790008467 FN  0.6170212765957447\n",
      "accuracy:  0.7114519086514419\n",
      "##########\n",
      "##########\n",
      "TP  0.66 FP  0.666384132903882 TN  0.333615867096118 FN  0.34\n",
      "accuracy:  0.3390565094182364\n",
      "##########\n"
     ]
    }
   ],
   "source": [
    "K = 10\n",
    "data_per_fold = 20000\n",
    "train_percent = 0.70\n",
    "\n",
    "for fold_no in range(K):\n",
    "    fold_start_index = np.random.randint(0, len(data) - data_per_fold)\n",
    "    fold_end_index = fold_start_index + data_per_fold\n",
    "    \n",
    "    fold_data = data[fold_start_index : fold_end_index]\n",
    "    fold_train_end_index = int(train_percent * fold_data.__len__())\n",
    "    fold_train_data = fold_data[0 : fold_train_end_index]\n",
    "    fold_test_data = fold_data[fold_train_end_index : ]\n",
    "    \n",
    "    # extact no meal data for train data\n",
    "    train_data = fold_train_data.loc[(fold_train_data['meal_start'] == 0) & (fold_train_data['meal'] == 0)]['cgm']\n",
    "    # include both meal and no meal for test data\n",
    "    test_data = fold_test_data['cgm']\n",
    "    \n",
    "    X_train, y_train = create_dataset(train_data, train_data)\n",
    "    X_test, y_test = create_dataset(test_data, test_data)\n",
    "    \n",
    "    X_train= X_train.reshape(len(X_train), 1, 1)\n",
    "    X_test = X_test.reshape(len(X_test), 1, 1)\n",
    "    \n",
    "    model_cgm = keras.Sequential()\n",
    "    model_cgm.add(keras.layers.LSTM(128, input_shape=(X_train.shape[1], X_train.shape[2]))) # batch_size * time_steps * num_features\n",
    "    model_cgm.add(keras.layers.Dense(1))\n",
    "    model_cgm.compile(loss='mean_squared_error', optimizer=keras.optimizers.Adam(0.001))\n",
    "    \n",
    "    fitted_model_cgm = model_cgm.fit(\n",
    "        X_train, y_train, \n",
    "        epochs=150, \n",
    "        batch_size=32, \n",
    "        validation_split=0.1, \n",
    "        verbose=0, \n",
    "        shuffle=False\n",
    "    )\n",
    "    \n",
    "    y_pred = model_cgm.predict(X_test)\n",
    "    \n",
    "    # compute meal and no-meal differences here\n",
    "\n",
    "    meal_diff = []\n",
    "    non_meal_diff = []\n",
    "    meal_truth = (fold_test_data['meal_start'] == 1).to_numpy()\n",
    "    meal_indices = np.where(meal_truth == True)[0]\n",
    "    non_meal_indices = np.where(meal_truth == False)[0]\n",
    "\n",
    "    for idx in meal_indices:\n",
    "        if idx < len(y_test):\n",
    "            meal_diff.append(abs(y_pred[idx][0] - y_test[idx]))\n",
    "\n",
    "    for idx in non_meal_indices:\n",
    "        if idx < len(y_test):\n",
    "            non_meal_diff.append(abs(y_pred[idx][0] - y_test[idx]))\n",
    "    \n",
    "    meal_diff = np.array(meal_diff)\n",
    "    non_meal_diff = np.array(non_meal_diff)\n",
    "    \n",
    "    print(\"#\" * 10)\n",
    "    threshold = 5.5\n",
    "    non_meal_row = [non_meal_diff[non_meal_diff < threshold].__len__(), non_meal_diff[non_meal_diff >= threshold].__len__()]\n",
    "    meal_row = [meal_diff[meal_diff < threshold].__len__(), meal_diff[meal_diff >= threshold].__len__()]\n",
    "    \n",
    "    true_positive = meal_diff[meal_diff >= threshold].__len__() / meal_diff.__len__()\n",
    "    true_negative = non_meal_diff[non_meal_diff < threshold].__len__() / non_meal_diff.__len__()\n",
    "    \n",
    "    false_positive = non_meal_diff[non_meal_diff >= threshold].__len__() / non_meal_diff.__len__()\n",
    "    false_negative = meal_diff[meal_diff < threshold].__len__() / meal_diff.__len__()\n",
    "    \n",
    "    print(\"TP \", true_positive, \"FP \", false_positive, \"TN \", true_negative, \"FN \", false_negative)\n",
    "    print(\"accuracy: \", (non_meal_row[0] + meal_row[1]) / (non_meal_row[0] + meal_row[1] + non_meal_row[1] + meal_row[0]) )\n",
    "    print(\"#\" * 10)"
   ]
  },
  {
   "cell_type": "code",
   "execution_count": 132,
   "metadata": {},
   "outputs": [
    {
     "ename": "ValueError",
     "evalue": "Cannot take a larger sample than population when 'replace=False'",
     "output_type": "error",
     "traceback": [
      "\u001b[1;31m---------------------------------------------------------------------------\u001b[0m",
      "\u001b[1;31mValueError\u001b[0m                                Traceback (most recent call last)",
      "\u001b[1;32m<ipython-input-132-989a15caec2f>\u001b[0m in \u001b[0;36m<module>\u001b[1;34m\u001b[0m\n\u001b[0;32m      3\u001b[0m \u001b[1;33m\u001b[0m\u001b[0m\n\u001b[0;32m      4\u001b[0m \u001b[0mall_no_meal_diff\u001b[0m \u001b[1;33m=\u001b[0m \u001b[0mreject_outliers\u001b[0m\u001b[1;33m(\u001b[0m\u001b[0mall_no_meal_diff\u001b[0m\u001b[1;33m)\u001b[0m\u001b[1;33m\u001b[0m\u001b[1;33m\u001b[0m\u001b[0m\n\u001b[1;32m----> 5\u001b[1;33m \u001b[0mall_no_meal_diff\u001b[0m \u001b[1;33m=\u001b[0m \u001b[0mnp\u001b[0m\u001b[1;33m.\u001b[0m\u001b[0mrandom\u001b[0m\u001b[1;33m.\u001b[0m\u001b[0mchoice\u001b[0m\u001b[1;33m(\u001b[0m\u001b[0mall_no_meal_diff\u001b[0m\u001b[1;33m,\u001b[0m \u001b[1;36m1500\u001b[0m\u001b[1;33m,\u001b[0m \u001b[0mreplace\u001b[0m\u001b[1;33m=\u001b[0m\u001b[1;32mFalse\u001b[0m\u001b[1;33m)\u001b[0m\u001b[1;33m\u001b[0m\u001b[1;33m\u001b[0m\u001b[0m\n\u001b[0m\u001b[0;32m      6\u001b[0m \u001b[1;33m\u001b[0m\u001b[0m\n\u001b[0;32m      7\u001b[0m \u001b[1;32mimport\u001b[0m \u001b[0mmatplotlib\u001b[0m\u001b[1;33m.\u001b[0m\u001b[0mpyplot\u001b[0m \u001b[1;32mas\u001b[0m \u001b[0mplt\u001b[0m\u001b[1;33m\u001b[0m\u001b[1;33m\u001b[0m\u001b[0m\n",
      "\u001b[1;32mmtrand.pyx\u001b[0m in \u001b[0;36mnumpy.random.mtrand.RandomState.choice\u001b[1;34m()\u001b[0m\n",
      "\u001b[1;31mValueError\u001b[0m: Cannot take a larger sample than population when 'replace=False'"
     ]
    }
   ],
   "source": [
    "all_meal_diff = np.array(all_meal_diff)\n",
    "all_no_meal_diff = np.array(all_no_meal_diff)\n",
    "\n",
    "all_no_meal_diff = reject_outliers(all_no_meal_diff)\n",
    "all_no_meal_diff = np.random.choice(all_no_meal_diff, 1500, replace=False)"
   ]
  },
  {
   "cell_type": "code",
   "execution_count": 143,
   "metadata": {},
   "outputs": [
    {
     "name": "stdout",
     "output_type": "stream",
     "text": [
      "##########\n",
      "TP  0.4024691358024691 FP  0.26264880952380953 TN  0.7373511904761905 FN  0.5975308641975309\n",
      "accuracy:  0.6598056032018296\n",
      "##########\n"
     ]
    },
    {
     "data": {
      "image/png": "[encoded data removed]",
      "text/plain": [
       "<Figure size 360x360 with 1 Axes>"
      ]
     },
     "metadata": {
      "needs_background": "light"
     },
     "output_type": "display_data"
    }
   ],
   "source": [
    "import matplotlib.pyplot as plt\n",
    "plt.figure(figsize=(5, 5))\n",
    "plt.plot(all_meal_diff, 'o', color='black')\n",
    "plt.plot(all_no_meal_diff, 'x', color='blue')\n",
    "plt.hlines(3.0, 0, 1000, color='black')\n",
    "\n",
    "meal_diff = all_meal_diff\n",
    "non_meal_diff = all_no_meal_diff\n",
    "\n",
    "print(\"#\" * 10)\n",
    "threshold = 5.5\n",
    "non_meal_row = [non_meal_diff[non_meal_diff < threshold].__len__(), non_meal_diff[non_meal_diff >= threshold].__len__()]\n",
    "meal_row = [meal_diff[meal_diff < threshold].__len__(), meal_diff[meal_diff >= threshold].__len__()]\n",
    "\n",
    "true_positive = meal_diff[meal_diff >= threshold].__len__() / meal_diff.__len__()\n",
    "true_negative = non_meal_diff[non_meal_diff < threshold].__len__() / non_meal_diff.__len__()\n",
    "\n",
    "false_positive = non_meal_diff[non_meal_diff >= threshold].__len__() / non_meal_diff.__len__()\n",
    "false_negative = meal_diff[meal_diff < threshold].__len__() / meal_diff.__len__()\n",
    "\n",
    "print(\"TP \", true_positive, \"FP \", false_positive, \"TN \", true_negative, \"FN \", false_negative)\n",
    "print(\"accuracy: \", (non_meal_row[0] + meal_row[1]) / (non_meal_row[0] + meal_row[1] + non_meal_row[1] + meal_row[0]) )\n",
    "print(\"#\" * 10)"
   ]
  },
  {
   "cell_type": "code",
   "execution_count": 124,
   "metadata": {},
   "outputs": [],
   "source": [
    "y_pred = model_cgm.predict(X_test)\n",
    "    \n",
    "# compute meal and no-meal differences here\n",
    "\n",
    "meal_diff = []\n",
    "non_meal_diff = []\n",
    "meal_truth = (fold_test_data['meal_start'] == 1).to_numpy()\n",
    "meal_indices = np.where(meal_truth == True)[0]\n",
    "non_meal_indices = np.where(meal_truth == False)[0]\n",
    "\n",
    "for idx in meal_indices:\n",
    "    if idx < len(y_test):\n",
    "        meal_diff.append(abs(y_pred[idx][0] - y_test[idx]))\n",
    "\n",
    "for idx in non_meal_indices:\n",
    "    if idx < len(y_test):\n",
    "        non_meal_diff.append(abs(y_pred[idx][0] - y_test[idx]))\n",
    "\n",
    "meal_diff = np.array(meal_diff)\n",
    "non_meal_diff = np.array(non_meal_diff)"
   ]
  },
  {
   "cell_type": "code",
   "execution_count": 125,
   "metadata": {},
   "outputs": [
    {
     "data": {
      "text/plain": [
       "<matplotlib.collections.LineCollection at 0x1a6caa1bbc8>"
      ]
     },
     "execution_count": 125,
     "metadata": {},
     "output_type": "execute_result"
    },
    {
     "data": {
      "image/png": "[encoded data removed]",
      "text/plain": [
       "<Figure size 2160x2160 with 1 Axes>"
      ]
     },
     "metadata": {
      "needs_background": "light"
     },
     "output_type": "display_data"
    }
   ],
   "source": [
    "non_meal_diff = reject_outliers(non_meal_diff)\n",
    "non_meal_diff = np.random.choice(non_meal_diff, 1500, replace=False)\n",
    "\n",
    "import matplotlib.pyplot as plt\n",
    "plt.figure(figsize=(30, 30))\n",
    "plt.plot(meal_diff, 'o', color='black')\n",
    "plt.plot(non_meal_diff, 'x', color='blue')\n",
    "plt.hlines(3.0, 0, 1000, color='black')"
   ]
  },
  {
   "cell_type": "code",
   "execution_count": 95,
   "metadata": {},
   "outputs": [
    {
     "data": {
      "text/plain": [
       "21000"
      ]
     },
     "execution_count": 95,
     "metadata": {},
     "output_type": "execute_result"
    }
   ],
   "source": [
    "len(fold_train_data)"
   ]
  },
  {
   "cell_type": "code",
   "execution_count": 105,
   "metadata": {},
   "outputs": [
    {
     "data": {
      "text/html": [
       "<div>\n",
       "<style scoped>\n",
       "    .dataframe tbody tr th:only-of-type {\n",
       "        vertical-align: middle;\n",
       "    }\n",
       "\n",
       "    .dataframe tbody tr th {\n",
       "        vertical-align: top;\n",
       "    }\n",
       "\n",
       "    .dataframe thead th {\n",
       "        text-align: right;\n",
       "    }\n",
       "</style>\n",
       "<table border=\"1\" class=\"dataframe\">\n",
       "  <thead>\n",
       "    <tr style=\"text-align: right;\">\n",
       "      <th></th>\n",
       "      <th>cgm</th>\n",
       "      <th>time_insulin</th>\n",
       "      <th>time_cgm</th>\n",
       "      <th>meal_start</th>\n",
       "      <th>meal</th>\n",
       "    </tr>\n",
       "  </thead>\n",
       "  <tbody>\n",
       "    <tr>\n",
       "      <th>21466</th>\n",
       "      <td>85.0</td>\n",
       "      <td>2017-11-12 23:57:02</td>\n",
       "      <td>2017-11-12 23:59:54</td>\n",
       "      <td>0</td>\n",
       "      <td>0</td>\n",
       "    </tr>\n",
       "    <tr>\n",
       "      <th>21467</th>\n",
       "      <td>81.0</td>\n",
       "      <td>2017-11-13 00:00:00</td>\n",
       "      <td>2017-11-13 00:04:54</td>\n",
       "      <td>0</td>\n",
       "      <td>0</td>\n",
       "    </tr>\n",
       "    <tr>\n",
       "      <th>21468</th>\n",
       "      <td>76.0</td>\n",
       "      <td>2017-11-13 00:07:02</td>\n",
       "      <td>2017-11-13 00:09:54</td>\n",
       "      <td>0</td>\n",
       "      <td>0</td>\n",
       "    </tr>\n",
       "    <tr>\n",
       "      <th>21469</th>\n",
       "      <td>59.0</td>\n",
       "      <td>2017-11-13 00:15:33</td>\n",
       "      <td>2017-11-13 00:19:53</td>\n",
       "      <td>0</td>\n",
       "      <td>0</td>\n",
       "    </tr>\n",
       "    <tr>\n",
       "      <th>21470</th>\n",
       "      <td>59.0</td>\n",
       "      <td>2017-11-13 00:15:36</td>\n",
       "      <td>2017-11-13 00:19:53</td>\n",
       "      <td>0</td>\n",
       "      <td>0</td>\n",
       "    </tr>\n",
       "    <tr>\n",
       "      <th>...</th>\n",
       "      <td>...</td>\n",
       "      <td>...</td>\n",
       "      <td>...</td>\n",
       "      <td>...</td>\n",
       "      <td>...</td>\n",
       "    </tr>\n",
       "    <tr>\n",
       "      <th>30461</th>\n",
       "      <td>197.0</td>\n",
       "      <td>2017-12-28 05:05:38</td>\n",
       "      <td>2017-12-28 05:10:20</td>\n",
       "      <td>0</td>\n",
       "      <td>0</td>\n",
       "    </tr>\n",
       "    <tr>\n",
       "      <th>30462</th>\n",
       "      <td>206.0</td>\n",
       "      <td>2017-12-28 05:10:33</td>\n",
       "      <td>2017-12-28 05:15:20</td>\n",
       "      <td>0</td>\n",
       "      <td>0</td>\n",
       "    </tr>\n",
       "    <tr>\n",
       "      <th>30463</th>\n",
       "      <td>218.0</td>\n",
       "      <td>2017-12-28 05:15:31</td>\n",
       "      <td>2017-12-28 05:20:20</td>\n",
       "      <td>0</td>\n",
       "      <td>0</td>\n",
       "    </tr>\n",
       "    <tr>\n",
       "      <th>30464</th>\n",
       "      <td>232.0</td>\n",
       "      <td>2017-12-28 05:20:33</td>\n",
       "      <td>2017-12-28 05:25:20</td>\n",
       "      <td>0</td>\n",
       "      <td>0</td>\n",
       "    </tr>\n",
       "    <tr>\n",
       "      <th>30465</th>\n",
       "      <td>243.0</td>\n",
       "      <td>2017-12-28 05:25:30</td>\n",
       "      <td>2017-12-28 05:30:20</td>\n",
       "      <td>0</td>\n",
       "      <td>0</td>\n",
       "    </tr>\n",
       "  </tbody>\n",
       "</table>\n",
       "<p>9000 rows × 5 columns</p>\n",
       "</div>"
      ],
      "text/plain": [
       "         cgm        time_insulin            time_cgm  meal_start  meal\n",
       "21466   85.0 2017-11-12 23:57:02 2017-11-12 23:59:54           0     0\n",
       "21467   81.0 2017-11-13 00:00:00 2017-11-13 00:04:54           0     0\n",
       "21468   76.0 2017-11-13 00:07:02 2017-11-13 00:09:54           0     0\n",
       "21469   59.0 2017-11-13 00:15:33 2017-11-13 00:19:53           0     0\n",
       "21470   59.0 2017-11-13 00:15:36 2017-11-13 00:19:53           0     0\n",
       "...      ...                 ...                 ...         ...   ...\n",
       "30461  197.0 2017-12-28 05:05:38 2017-12-28 05:10:20           0     0\n",
       "30462  206.0 2017-12-28 05:10:33 2017-12-28 05:15:20           0     0\n",
       "30463  218.0 2017-12-28 05:15:31 2017-12-28 05:20:20           0     0\n",
       "30464  232.0 2017-12-28 05:20:33 2017-12-28 05:25:20           0     0\n",
       "30465  243.0 2017-12-28 05:25:30 2017-12-28 05:30:20           0     0\n",
       "\n",
       "[9000 rows x 5 columns]"
      ]
     },
     "execution_count": 105,
     "metadata": {},
     "output_type": "execute_result"
    }
   ],
   "source": [
    "fold_test_data"
   ]
  },
  {
   "cell_type": "code",
   "execution_count": 106,
   "metadata": {},
   "outputs": [
    {
     "data": {
      "text/plain": [
       "21466    False\n",
       "21467    False\n",
       "21468    False\n",
       "21469    False\n",
       "21470    False\n",
       "         ...  \n",
       "30461    False\n",
       "30462    False\n",
       "30463    False\n",
       "30464    False\n",
       "30465    False\n",
       "Name: meal_start, Length: 9000, dtype: bool"
      ]
     },
     "execution_count": 106,
     "metadata": {},
     "output_type": "execute_result"
    }
   ],
   "source": []
  },
  {
   "cell_type": "code",
   "execution_count": 108,
   "metadata": {},
   "outputs": [
    {
     "data": {
      "text/html": [
       "<div>\n",
       "<style scoped>\n",
       "    .dataframe tbody tr th:only-of-type {\n",
       "        vertical-align: middle;\n",
       "    }\n",
       "\n",
       "    .dataframe tbody tr th {\n",
       "        vertical-align: top;\n",
       "    }\n",
       "\n",
       "    .dataframe thead th {\n",
       "        text-align: right;\n",
       "    }\n",
       "</style>\n",
       "<table border=\"1\" class=\"dataframe\">\n",
       "  <thead>\n",
       "    <tr style=\"text-align: right;\">\n",
       "      <th></th>\n",
       "      <th>cgm</th>\n",
       "      <th>time_insulin</th>\n",
       "      <th>time_cgm</th>\n",
       "      <th>meal_start</th>\n",
       "      <th>meal</th>\n",
       "    </tr>\n",
       "  </thead>\n",
       "  <tbody>\n",
       "    <tr>\n",
       "      <th>21496</th>\n",
       "      <td>254.0</td>\n",
       "      <td>2017-11-13 02:55:07</td>\n",
       "      <td>2017-11-13 02:59:53</td>\n",
       "      <td>1</td>\n",
       "      <td>0</td>\n",
       "    </tr>\n",
       "    <tr>\n",
       "      <th>21547</th>\n",
       "      <td>142.0</td>\n",
       "      <td>2017-11-13 09:18:15</td>\n",
       "      <td>2017-11-13 09:19:55</td>\n",
       "      <td>1</td>\n",
       "      <td>0</td>\n",
       "    </tr>\n",
       "    <tr>\n",
       "      <th>21588</th>\n",
       "      <td>117.0</td>\n",
       "      <td>2017-11-13 16:00:00</td>\n",
       "      <td>2017-11-13 16:00:21</td>\n",
       "      <td>1</td>\n",
       "      <td>0</td>\n",
       "    </tr>\n",
       "    <tr>\n",
       "      <th>21663</th>\n",
       "      <td>131.0</td>\n",
       "      <td>2017-11-13 23:35:33</td>\n",
       "      <td>2017-11-13 23:40:22</td>\n",
       "      <td>1</td>\n",
       "      <td>0</td>\n",
       "    </tr>\n",
       "    <tr>\n",
       "      <th>21693</th>\n",
       "      <td>118.0</td>\n",
       "      <td>2017-11-14 04:20:32</td>\n",
       "      <td>2017-11-14 04:25:24</td>\n",
       "      <td>1</td>\n",
       "      <td>0</td>\n",
       "    </tr>\n",
       "    <tr>\n",
       "      <th>...</th>\n",
       "      <td>...</td>\n",
       "      <td>...</td>\n",
       "      <td>...</td>\n",
       "      <td>...</td>\n",
       "      <td>...</td>\n",
       "    </tr>\n",
       "    <tr>\n",
       "      <th>30123</th>\n",
       "      <td>140.0</td>\n",
       "      <td>2017-12-26 08:41:33</td>\n",
       "      <td>2017-12-26 08:46:14</td>\n",
       "      <td>1</td>\n",
       "      <td>0</td>\n",
       "    </tr>\n",
       "    <tr>\n",
       "      <th>30284</th>\n",
       "      <td>188.0</td>\n",
       "      <td>2017-12-27 01:51:22</td>\n",
       "      <td>2017-12-27 01:56:18</td>\n",
       "      <td>1</td>\n",
       "      <td>0</td>\n",
       "    </tr>\n",
       "    <tr>\n",
       "      <th>30333</th>\n",
       "      <td>188.0</td>\n",
       "      <td>2017-12-27 05:46:24</td>\n",
       "      <td>2017-12-27 05:51:18</td>\n",
       "      <td>1</td>\n",
       "      <td>0</td>\n",
       "    </tr>\n",
       "    <tr>\n",
       "      <th>30368</th>\n",
       "      <td>193.0</td>\n",
       "      <td>2017-12-27 08:06:29</td>\n",
       "      <td>2017-12-27 08:11:20</td>\n",
       "      <td>1</td>\n",
       "      <td>0</td>\n",
       "    </tr>\n",
       "    <tr>\n",
       "      <th>30448</th>\n",
       "      <td>128.0</td>\n",
       "      <td>2017-12-28 04:05:32</td>\n",
       "      <td>2017-12-28 04:10:20</td>\n",
       "      <td>1</td>\n",
       "      <td>0</td>\n",
       "    </tr>\n",
       "  </tbody>\n",
       "</table>\n",
       "<p>160 rows × 5 columns</p>\n",
       "</div>"
      ],
      "text/plain": [
       "         cgm        time_insulin            time_cgm  meal_start  meal\n",
       "21496  254.0 2017-11-13 02:55:07 2017-11-13 02:59:53           1     0\n",
       "21547  142.0 2017-11-13 09:18:15 2017-11-13 09:19:55           1     0\n",
       "21588  117.0 2017-11-13 16:00:00 2017-11-13 16:00:21           1     0\n",
       "21663  131.0 2017-11-13 23:35:33 2017-11-13 23:40:22           1     0\n",
       "21693  118.0 2017-11-14 04:20:32 2017-11-14 04:25:24           1     0\n",
       "...      ...                 ...                 ...         ...   ...\n",
       "30123  140.0 2017-12-26 08:41:33 2017-12-26 08:46:14           1     0\n",
       "30284  188.0 2017-12-27 01:51:22 2017-12-27 01:56:18           1     0\n",
       "30333  188.0 2017-12-27 05:46:24 2017-12-27 05:51:18           1     0\n",
       "30368  193.0 2017-12-27 08:06:29 2017-12-27 08:11:20           1     0\n",
       "30448  128.0 2017-12-28 04:05:32 2017-12-28 04:10:20           1     0\n",
       "\n",
       "[160 rows x 5 columns]"
      ]
     },
     "execution_count": 108,
     "metadata": {},
     "output_type": "execute_result"
    }
   ],
   "source": [
    "fold_test_data[fold_test_data['meal_start'] == 1]"
   ]
  },
  {
   "cell_type": "code",
   "execution_count": null,
   "metadata": {},
   "outputs": [],
   "source": []
  }
 ],
 "metadata": {
  "kernelspec": {
   "display_name": "Python 3",
   "language": "python",
   "name": "python3"
  },
  "language_info": {
   "codemirror_mode": {
    "name": "ipython",
    "version": 3
   },
   "file_extension": ".py",
   "mimetype": "text/x-python",
   "name": "python",
   "nbconvert_exporter": "python",
   "pygments_lexer": "ipython3",
   "version": "3.7.9"
  }
 },
 "nbformat": 4,
 "nbformat_minor": 1
}
